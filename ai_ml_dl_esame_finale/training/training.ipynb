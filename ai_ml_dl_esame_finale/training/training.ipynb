{
 "cells": [
  {
   "cell_type": "code",
   "execution_count": null,
   "id": "initial_id",
   "metadata": {
    "collapsed": true,
    "is_executing": true
   },
   "outputs": [],
   "source": [
    "## Notebook per il training ##\n",
    "\n",
    "# Importazione delle librerie necessarie\n",
    "\n",
    "import pandas as pd\n",
    "import seaborn as sns\n",
    "import matplotlib.pyplot as plt\n",
    "import requests\n",
    "from io import StringIO\n",
    "\n",
    "# Importazione degli url attraverso la libreria Request\n",
    "\n",
    "red_wine_url= 'https://raw.githubusercontent.com/FabioGagliardiIts/datasets/main/wine_quality/winequality-red.csv'\n",
    "white_wine_url = 'https://raw.githubusercontent.com/FabioGagliardiIts/datasets/main/wine_quality/winequality-white.csv'\n",
    "\n",
    "# Definizione delle GET attraverso la Requests per avere i dati\n",
    "response_red = requests.get(red_wine_url)\n",
    "response_white = requests.get(white_wine_url)\n",
    "\n",
    "# Check per vedere se le GET hanno dato esito favorevole o meno, restituendomi i dati richiesti\n",
    "if response_red.status_code == 200 and response_white.status_code == 200:\n",
    "    df_red_wine = pd.read_csv(StringIO(response_red.text), sep=';')\n",
    "    df_white_wine = pd.read_csv(StringIO(response_white.text), sep=';')\n",
    "\n",
    "    display(df_red_wine)\n",
    "    display(df_white_wine)\n",
    "# Restituisce gli status code per ciascun URL se le richieste non hanno ritrovato i dati    \n",
    "else:\n",
    "    print('Errore. Status code (Primo URL):', response_red.status_code)\n",
    "    print('Errore. Status code (Secondo URL):', response_white.status_code)"
   ]
  },
  {
   "cell_type": "code",
   "execution_count": null,
   "outputs": [],
   "source": [
    "# Prima di iniziare a lavorare sui dati, è mia prassi fare un backup dei df originali\n",
    "# Copia di backup dei df originali\n",
    "\n",
    "df_r_wine = df_red_wine.copy()\n",
    "df_w_wine = df_white_wine.copy()"
   ],
   "metadata": {
    "collapsed": false,
    "is_executing": true
   },
   "id": "3b3aef6b103f7b36"
  },
  {
   "cell_type": "code",
   "execution_count": null,
   "outputs": [],
   "source": [
    "# Considerazioni preliminari:\n",
    "# i due df hanno una ingente disparità di record, rendendo così difficoltosa un'analisi approfondita basata sulla tipologia (vino rosso e bianco)\n",
    "# si tratta di tipologie diverse dello stesso vino \"Vinho Verde\" (fonte: punto 4, https://github.com/FabioGagliardiIts/datasets/blob/main/wine_quality/winequality.names)\n",
    "# lo scopo è quello di predirre la qualità del vino (a prescindere, quindi, dal fatto che si tratti di una variante di rosso o di bianco)\n",
    "# Fatte queste premesse, mi è sembrato opportuno unire i due df in un unico dataset per avere una migliore visione d'insieme e per porre in essere una predizione più concreta\n",
    "df_r_wine['type'] = 0\n",
    "df_w_wine['type'] = 1\n",
    "\n",
    "display(df_r_wine)\n",
    "display(df_w_wine)\n",
    "\n",
    "frames = [df_r_wine, df_w_wine]\n",
    "df_wine = pd.concat(frames)\n",
    "display(df_wine)"
   ],
   "metadata": {
    "collapsed": false,
    "is_executing": true
   },
   "id": "8d6a055a7ac8f425"
  },
  {
   "cell_type": "markdown",
   "source": [
    "<h1> Legenda delle colonne </h1>"
   ],
   "metadata": {
    "collapsed": false
   },
   "id": "3617a083cec568bc"
  },
  {
   "cell_type": "markdown",
   "source": [
    "1 Fixed acidity. The predominant fixed acids in wine, such as tartaric, succinic, citric, and malic acids. <br>\n",
    "2 Volatile acidity. The high acetic acid present in wine, which causes an unpleasant vinegar taste. <br>\n",
    "3 Citric acid. A weak organic acid used to increase the freshness and flavor of wine.<br>\n",
    "4 Residual sugar. The amount of sugar left after fermentation. <br>\n",
    "5 Chlorides. The amount of salt in wine. The lower chloride rate creates better quality wines. <br>\n",
    "6 Free sulfur dioxide. SO2 is used for preventing wine from oxidation and microbial spoilage. <br>\n",
    "7 Total sulfur dioxide. The amount of free and bound forms of SO2.<br>\n",
    "8 Density. Depends on the alcohol and sugar content. Better wines usually have lower densities. <br>\n",
    "9 pH. Used to check the level of acidity or alkalinity of wine. <br>\n",
    "10 Sulfates. An antibacterial and antioxidant agent added to wine. <br>\n",
    "11 Alcohol. The percentage of alcohol in wine. A higher concentration leads to better quality.<br>\n",
    "12 Type. 0 Red wine, 1 White wine."
   ],
   "metadata": {
    "collapsed": false
   },
   "id": "c3ce5ac4557b023e"
  },
  {
   "cell_type": "markdown",
   "source": [
    "<h1> Analisi EDA </h1>\n",
    "- Controllo per eventuali valori nulli <br>\n",
    "- Controllo degli outliers <br>\n",
    "- Gestione degli outliers <br>\n",
    "- Data visualization per capire l'andamento dei dati <br>\n",
    "- Matrice di correlazione per inidividuare quali potrebbero essere le features da mantenere per il traning del modello <br>\n"
   ],
   "metadata": {
    "collapsed": false
   },
   "id": "8b5d754db3158aa9"
  },
  {
   "cell_type": "code",
   "execution_count": null,
   "outputs": [],
   "source": [
    "# Check per vedere se ci sono valori nulli\n",
    "# Utilizzo una funzione che mostra quanti valori nulli ci sono - o potrebbero esserci- all'interno del df\n",
    "\n",
    "def display_null_counts(df):\n",
    "    null_counts = df.isna().sum()\n",
    "    display(null_counts)\n",
    "    print('\\n')\n",
    "\n",
    "display_null_counts(df_wine)"
   ],
   "metadata": {
    "collapsed": false,
    "is_executing": true
   },
   "id": "ff05404818843408"
  },
  {
   "cell_type": "code",
   "execution_count": null,
   "outputs": [],
   "source": [
    "# Utilizzo il metodo .describe() per iniziare ad analizzare il contenuto del df\n",
    "\n",
    "df_wine.describe()"
   ],
   "metadata": {
    "collapsed": false,
    "is_executing": true
   },
   "id": "c1584ccfed15b494"
  },
  {
   "cell_type": "markdown",
   "source": [
    "<h1> Outliers </h1>\n",
    "<h3> Da una preliminare analisi dei dati, è possibile notare come ci sia/siano record nella colonna 'quality' (colonna target) con valori molto alti e molto bassi. Ho quindi optato per capire quali e quanti siano quei record </h3>"
   ],
   "metadata": {
    "collapsed": false
   },
   "id": "b483e26234728d4b"
  },
  {
   "cell_type": "code",
   "execution_count": null,
   "outputs": [],
   "source": [
    "# Definisco un treshold nella colonna quality oltre il quale i record sono classificati come outliers\n",
    "# Ho optato per definire i record oltre il valore 7 come outliers\n",
    "outliers = df_wine[df_wine['quality'] >= 7]\n",
    "\n",
    "# Grafico per capirne la distribuzione\n",
    "plt.hist(outliers['quality'], bins=5, edgecolor='black', color='green')\n",
    "plt.xlabel('Quality')\n",
    "plt.ylabel('Count')\n",
    "plt.title('Distribuzione dei Record con Quality >= 7')\n",
    "plt.show()\n",
    "\n",
    "# Separo gli outliers: voglio sapere quanti record ci sono per ogni valore >= 7\n",
    "# Numero dei record con valore 7\n",
    "count_quality_7 = (df_wine['quality'] == 7).sum()\n",
    "records_quality_7 = df_wine[df_wine['quality'] == 7]\n",
    "\n",
    "# Numero record con valore 8\n",
    "count_quality_8 = (df_wine['quality'] == 8).sum()\n",
    "records_quality_8 = df_wine[df_wine['quality'] == 8]\n",
    "\n",
    "# Numero record con valore 9\n",
    "count_quality_9 = (df_wine['quality'] == 9).sum()\n",
    "records_quality_9 = df_wine[df_wine['quality'] == 9]\n",
    "\n",
    "print(f\"Numero di record con quality = 7: {count_quality_7}\")\n",
    "print(f\"Numero di record con quality = 8: {count_quality_8}\")\n",
    "print(f\"Numero di record con quality = 9: {count_quality_9}\")"
   ],
   "metadata": {
    "collapsed": false,
    "is_executing": true
   },
   "id": "b5aba3e6000e59c2"
  },
  {
   "cell_type": "code",
   "execution_count": null,
   "outputs": [],
   "source": [
    "# preliminare dataviz della distribuzione dei dati \n",
    "\n",
    "# N.B. \n",
    "# ho commentato la successiva linea di codice solo per risparmiare tempo e potere computazionale\n",
    "\n",
    "#sns.pairplot(df_wine)"
   ],
   "metadata": {
    "collapsed": false,
    "is_executing": true
   },
   "id": "dbac3df528ba93cf"
  },
  {
   "cell_type": "code",
   "execution_count": null,
   "outputs": [],
   "source": [
    "# Matrice di correlazione per avere una rappresentazione grafica di quale sia (o siano) la feature con una correlazione più forte con la colonna target (quality)\n",
    "# ho utilizzato una variabile 'ax' per aumentare le dimensioni della matrice di correlazione\n",
    "\n",
    "fig, ax = plt.subplots(figsize=(10,10))\n",
    "sns.heatmap(df_wine.corr(), annot=True, ax = ax)"
   ],
   "metadata": {
    "collapsed": false,
    "is_executing": true
   },
   "id": "9177f805cbad6b80"
  },
  {
   "cell_type": "code",
   "execution_count": null,
   "outputs": [],
   "source": [
    "# dataviz a istogrammi per vedere la distribuzione dei dati del df\n",
    "df_wine.hist(bins=25, figsize = (10,10))\n",
    "plt.show()"
   ],
   "metadata": {
    "collapsed": false,
    "is_executing": true
   },
   "id": "864eb971eebf3091"
  },
  {
   "cell_type": "code",
   "execution_count": null,
   "outputs": [],
   "source": [
    "# Definita la matrice di correlazione, prendo in considerazione la colonna target (quality) con la feature con maggiore correlazione (alcohol)\n",
    "# dataviz per mostrare a schermo il grafico che prende in considerazione la colonna target con la main feature del df\n",
    "plt.figure(figsize = (10,6))\n",
    "plt.bar(df_wine['quality'], df_wine['alcohol'], color = 'green')\n",
    "plt.xlabel('quality')\n",
    "plt.ylabel('alcohol')"
   ],
   "metadata": {
    "collapsed": false,
    "is_executing": true
   },
   "id": "6e53edbd78158110"
  },
  {
   "cell_type": "code",
   "execution_count": null,
   "outputs": [],
   "source": [
    "# determino con un valore arbitrario (in questo caso 0,7) quale sia/siano le altre features che hanno una correlazione forte \n",
    "plt.figure(figsize=(12, 12))\n",
    "sns.heatmap(df_wine.corr() > 0.7, annot=True, cbar=False, cmap='tab20c')\n",
    "plt.show()"
   ],
   "metadata": {
    "collapsed": false,
    "is_executing": true
   },
   "id": "5851b662ec8c553"
  },
  {
   "cell_type": "code",
   "execution_count": null,
   "outputs": [],
   "source": [
    "# Constatato il fatto che ci sono features che hanno una forte correlazione tra loro opto per:\n",
    "# rimuovere la colonna 'total sulfur dioxide' dal df\n",
    "df_wine = df_wine.drop('total sulfur dioxide', axis = 1)\n",
    "\n",
    "display(df_wine)"
   ],
   "metadata": {
    "collapsed": false,
    "is_executing": true
   },
   "id": "89d51cb9f75bb24"
  },
  {
   "cell_type": "markdown",
   "source": [
    "<h1> Considerazioni sulla selezione delle features per il modello: </h1>\n",
    "- l'obiettivo è quello di predirre se un vino è di buona o di scarsa qualità, ergo sarebbe opportuno semplificare la classificazione creando una nuova colonna 'best quality'<br>\n",
    "- l'idea è quella di settare un treshold sulla colonna quality per distinguere se un vino è di ottima o di scarsa qualità <br>\n",
    "- la colonna 'best quality' conterrebbe valori 0 o 1 in base a quanto detto nel punto sopra <br>\n",
    "- nell'analisi EDA è emersa una considerevole disparità tra la qualità media dei vini rispetto a quelli di alta o bassa qualità; in questo caso creare una colonna 'best quality' bilancerebbe la distribuzione dei dati per porre in essere una modellazione più accurata <br>\n",
    "- gestione degli outliers: creando la colonna 'best quality' si eviterebbe di eliminare o riqualificare gli outliers, mantenendo così i valori originali <br>"
   ],
   "metadata": {
    "collapsed": false
   },
   "id": "6df4266300748903"
  },
  {
   "cell_type": "code",
   "execution_count": null,
   "outputs": [],
   "source": [
    "# Creazione di una nuova colonna ('best quality') che iterando sulla colonna quality assegna il valore 1 (se la qualità del vino è > 5) o il valore 0 (se inferiore di 5)\n",
    "df_wine['best quality'] = [1 if x > 5.8 else 0 for x in df_wine.quality]\n",
    "display(df_wine)"
   ],
   "metadata": {
    "collapsed": false,
    "is_executing": true
   },
   "id": "11de8159e0b5360f"
  },
  {
   "cell_type": "code",
   "execution_count": null,
   "outputs": [],
   "source": [
    "# Dataviz per la distribuzione dei dati tra la colonna target e quella delle features\n",
    "# Aggiunta un treshold per visualizzare i valori 'quality' dai valori 'best quality'\n",
    "# la treshold è settata a 5.8 che è la media dei valori\n",
    "df_wine.plot.scatter(x=\"quality\", y=\"best quality\")\n",
    "plt.axvline(x=5.8, color='r', linestyle='--', label='Threshold: 5.8')\n",
    "plt.show()"
   ],
   "metadata": {
    "collapsed": false,
    "is_executing": true
   },
   "id": "9560e53b2d5baa5"
  },
  {
   "cell_type": "markdown",
   "source": [
    "<h1> Implementazione del modello </h1>"
   ],
   "metadata": {
    "collapsed": false
   },
   "id": "280cf6102bcb2b08"
  },
  {
   "cell_type": "markdown",
   "source": [
    "**Considerata la distribuzione dei dati e l'obiettivo finale, ritengo opportuno utilizzare la Logistic Regression per la classificazione dei vini**\n",
    "<h6> Colonna target: best quality </h6>\n",
    "<h6> Colonna features: quality</h6>"
   ],
   "metadata": {
    "collapsed": false
   },
   "id": "a7dd8662e6b89539"
  },
  {
   "cell_type": "code",
   "execution_count": null,
   "outputs": [],
   "source": [
    "# Importazione delle librerie necessarie per l'implementazione del modello di ml\n",
    "from sklearn.model_selection import train_test_split\n",
    "from sklearn.preprocessing import MinMaxScaler\n",
    "from sklearn.linear_model import LogisticRegression\n",
    "from sklearn.metrics import accuracy_score, confusion_matrix, mean_squared_error, r2_score"
   ],
   "metadata": {
    "collapsed": false,
    "is_executing": true
   },
   "id": "bbb488823805d86a"
  },
  {
   "cell_type": "markdown",
   "source": [
    "<h2> Split di Training e Testing </h2> "
   ],
   "metadata": {
    "collapsed": false
   },
   "id": "4de6e35b006720b0"
  },
  {
   "cell_type": "code",
   "execution_count": null,
   "outputs": [],
   "source": [
    "# Selezione delle features e della colonna target\n",
    "features = df_wine.drop(['quality', 'best quality'], axis=1)\n",
    "target = df_wine['best quality']\n",
    "\n",
    "# split di training e testing delle features e del target\n",
    "x_train, x_test, y_train, y_test = train_test_split(\n",
    "    features, target, test_size=0.2, random_state=40)\n",
    "\n",
    "# shape delle tuple di training e di testing\n",
    "x_train.shape, x_test.shape"
   ],
   "metadata": {
    "collapsed": false,
    "is_executing": true
   },
   "id": "9f1cfe1782c8e50c"
  },
  {
   "cell_type": "markdown",
   "source": [
    "<h2> Normalizzazione </h2>"
   ],
   "metadata": {
    "collapsed": false
   },
   "id": "f32c02acecffd5e3"
  },
  {
   "cell_type": "code",
   "execution_count": null,
   "outputs": [],
   "source": [
    "# Normalizzazione dei valori (rispettivamente di training e di testing) utilizzando il MinMaxScaler di sklearn \n",
    "norm = MinMaxScaler()\n",
    "xtrain = norm.fit_transform(x_train)\n",
    "xtest = norm.transform(x_test)\n",
    "#print(xtrain)\n",
    "#print(xtest)"
   ],
   "metadata": {
    "collapsed": false,
    "is_executing": true
   },
   "id": "e716b01bcaf8a4bd"
  },
  {
   "cell_type": "code",
   "execution_count": null,
   "outputs": [],
   "source": [
    "# inizializzazione del modello di regressione logistica\n",
    "logistic_model = LogisticRegression()\n",
    "\n",
    "# training del modello\n",
    "logistic_model.fit(xtrain, y_train)\n",
    "\n",
    "# previsione sui test\n",
    "y_pred_logistic = logistic_model.predict(xtest)\n",
    "\n",
    "# definizione della precisione del modello utilizzando la libreria accuracy_score di sklearn\n",
    "accuracy = accuracy_score(y_test, y_pred_logistic)\n",
    "print('Precisione del modello:', accuracy)\n",
    "\n",
    "print('\\n')\n",
    "\n",
    "# inizializzazione della matrice di confusione per la visualizzazione dei risultati\n",
    "conf_matrix_logistic = confusion_matrix(y_test, y_pred_logistic)\n",
    "\n",
    "# Definizione dell'errore quadrato medio\n",
    "mse = mean_squared_error(y_test, y_pred_logistic)\n",
    "print('MSE:', mse)\n",
    "\n",
    "# definizione di r2\n",
    "r2 = r2_score(y_test, y_pred_logistic)\n",
    "print('R2:', r2)"
   ],
   "metadata": {
    "collapsed": false,
    "is_executing": true
   },
   "id": "801f233c1f8c65be"
  },
  {
   "cell_type": "code",
   "execution_count": null,
   "outputs": [],
   "source": [
    "# Dataviz: grafico della matrice di confusione\n",
    "\n",
    "plt.figure(figsize=(8, 6))\n",
    "sns.heatmap(conf_matrix_logistic, annot=True, fmt=\"d\", cmap=\"OrRd_r\", cbar=False)\n",
    "\n",
    "# Precisazione dei label per la matrice di confusione\n",
    "plt.text(0.3, 0.3, 'TP (True Positive)', fontsize=12, color='black', horizontalalignment='center', verticalalignment='center')\n",
    "plt.text(1.3, 0.3, 'FP (False Positive)', fontsize=12, color='black', horizontalalignment='center', verticalalignment='center')\n",
    "plt.text(0.3, 1.3, 'FN (False Negative)', fontsize=12, color='black', horizontalalignment='center', verticalalignment='center')\n",
    "plt.text(1.3, 1.3, 'TN (True Negative)', fontsize=12, color='black', horizontalalignment='center', verticalalignment='center')\n",
    "\n",
    "plt.xlabel('Valori Predetti')\n",
    "plt.ylabel('Valori Reali')\n",
    "plt.title('Matrice di Confusione (Logistic Regression)')\n",
    "plt.show()"
   ],
   "metadata": {
    "collapsed": false,
    "is_executing": true
   },
   "id": "9abf1570a7fb8f95"
  },
  {
   "cell_type": "markdown",
   "source": [
    "<h1> Ridefinizione dei titoli delle colonne </h1>"
   ],
   "metadata": {
    "collapsed": false
   },
   "id": "7cf5f5a2e95a0baa"
  },
  {
   "cell_type": "code",
   "execution_count": null,
   "outputs": [],
   "source": [
    "# Una volta addestrato il modello, ho rinominato i titoli delle colonne del df, sostituendo gli spazi con '_'\n",
    "# Questa modifica mi consente di utilizzare i nomi delle colonne come features nel BaseModel quando costruirò l'API per esporre il modello\n",
    "df_wine.columns = df_wine.columns.str.replace(' ', '_')"
   ],
   "metadata": {
    "collapsed": false,
    "is_executing": true
   },
   "id": "414bf9d06e129e33"
  },
  {
   "cell_type": "code",
   "execution_count": null,
   "outputs": [],
   "source": [
    "# Mostra il df con le modifiche apportate ai nomi delle colonne\n",
    "display(df_wine)"
   ],
   "metadata": {
    "collapsed": false,
    "is_executing": true
   },
   "id": "6095d3f653251c97"
  },
  {
   "cell_type": "code",
   "execution_count": null,
   "outputs": [],
   "source": [
    "\n",
    "\n",
    "# Supponiamo che df_wine sia il tuo DataFrame\n",
    "# Specifica il percorso completo del file CSV, incluso il nome del file\n",
    "percorso_file_csv = '/Users/albertopuggioni/PycharmProjects/ai_ml_esame_finale/CSV/wine_data.csv'\n",
    "\n",
    "# Utilizza il metodo to_csv() per esportare il DataFrame nella cartella specificata\n",
    "df_wine.to_csv(percorso_file_csv, index=False)  # L'argomento index=False impedisce di scrivere l'indice nel CSV"
   ],
   "metadata": {
    "collapsed": false,
    "is_executing": true
   },
   "id": "961b5ec0974da362"
  },
  {
   "cell_type": "markdown",
   "source": [
    "<h1> Salvataggio del modello </h1>"
   ],
   "metadata": {
    "collapsed": false
   },
   "id": "68352d8575ba1ad6"
  },
  {
   "cell_type": "markdown",
   "source": [
    "<h1> Ho provato ad utilizzare la libreria di sklearnpmml2 per esportare e salvare il modello, ma mi dava un errore di compatibilità con la versione del converter. Ho inoltre provato a fare il downgrade di sklearn alla versione 1.2.2, ma senza successo.\n",
    "Ho quindi scelto di utilizzare la libreria joblib per salvare ed esportare il modello </h1>"
   ],
   "metadata": {
    "collapsed": false
   },
   "id": "3c0bdee4622dd412"
  },
  {
   "cell_type": "code",
   "execution_count": null,
   "outputs": [],
   "source": [
    "# Importo la libreria per salvare il modello\n",
    "#from sklearn2pmml import sklearn2pmml\n",
    "\n",
    "# Nomino il modello e lo salvo nella directory 'modello' del progetto\n",
    "#pmml_modello_wine_quality = '/Users/albertopuggioni/PycharmProjects/ai_ml_esame2/modello/logistic_regression_model.pmml'\n",
    "\n",
    "# conversione del modello in pmml \n",
    "#sklearn2pmml(logistic_model, pmml_modello_wine_quality)\n",
    "\n",
    "# messaggio che conferma l'versione e salvataggio\n",
    "#print(f\"Successo: Modello convertito e salvato come '{pmml_modello_wine_quality}'\")"
   ],
   "metadata": {
    "collapsed": false,
    "is_executing": true
   },
   "id": "15a7c606ae9c8208"
  },
  {
   "cell_type": "code",
   "execution_count": null,
   "outputs": [],
   "source": [
    "# importazione della libreria joblib per salvare il modello addestrato\n",
    "import joblib\n",
    "\n",
    "# valorizzo il modello e lo inserisco nella cartella appropriata del progetto\n",
    "model_wine_quality = \"/Users/albertopuggioni/PycharmProjects/ai_ml_esame_finale/modello/modello_logistic_regression.pkl\"\n",
    "\n",
    "# salvataggio del modello + messaggio di conferma dell'avvenuto salvataggio\n",
    "joblib.dump(logistic_model, model_wine_quality)\n",
    "print(f\"Modello salvato con successo in: {model_wine_quality}\")"
   ],
   "metadata": {
    "collapsed": false,
    "is_executing": true
   },
   "id": "bef92ed85e3eca25"
  }
 ],
 "metadata": {
  "kernelspec": {
   "display_name": "Python 3",
   "language": "python",
   "name": "python3"
  },
  "language_info": {
   "codemirror_mode": {
    "name": "ipython",
    "version": 2
   },
   "file_extension": ".py",
   "mimetype": "text/x-python",
   "name": "python",
   "nbconvert_exporter": "python",
   "pygments_lexer": "ipython2",
   "version": "2.7.6"
  }
 },
 "nbformat": 4,
 "nbformat_minor": 5
}
